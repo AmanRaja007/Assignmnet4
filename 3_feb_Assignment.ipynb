{
 "cells": [
  {
   "cell_type": "markdown",
   "id": "0780dc35-5f13-4239-9a3c-8ee0f5d9cf86",
   "metadata": {},
   "source": [
    "Question 1.\n",
    "Which keyword is used to create a function? Create a function to return  a list\n",
    "of odd numbers in the range of 1 to 25."
   ]
  },
  {
   "cell_type": "markdown",
   "id": "bc0ac13a-48d6-4859-ab18-c4dfc5a88c81",
   "metadata": {},
   "source": [
    "#Solution \n",
    "def keyword is used to create the function."
   ]
  },
  {
   "cell_type": "code",
   "execution_count": 17,
   "id": "087fcb80-add5-4bc3-ba6e-4f8ed3b42a91",
   "metadata": {
    "tags": []
   },
   "outputs": [
    {
     "data": {
      "text/plain": [
       "[1, 3, 5, 7, 9, 11, 13, 15, 17, 19, 21, 23, 25]"
      ]
     },
     "execution_count": 17,
     "metadata": {},
     "output_type": "execute_result"
    }
   ],
   "source": [
    "def odd_number(n):\n",
    "    return [x for x in range(0, n+1) if x%2 != 0]\n",
    "\n",
    "odd_number(25)\n",
    "    "
   ]
  },
  {
   "cell_type": "markdown",
   "id": "b093fcc3-8d28-423b-b345-cb5154c5b8bf",
   "metadata": {},
   "source": [
    "Q2. Why *args and **kwargs is used in some functions? Create a function each for *args \n",
    "and **kwargs  to demonstrate their use. \n"
   ]
  },
  {
   "cell_type": "markdown",
   "id": "2175203b-02ba-4c5a-b35d-58a1546c8608",
   "metadata": {},
   "source": [
    "#solution\n",
    "*args and **kwargs as arguments of a function when you are unsure about number of arguments \n",
    "to pass in the function.\n",
    "*args allow us to pass variable number of non-keyword arguments to a python function.In the function we use asterisk (*) before the parameter name to pass a variable number of arguments.\n",
    "**kwargs allow us to pass variable number of keyword arguments to a python function, In the function we use double-asterisk (**) before the parameter name to denote this type of argument."
   ]
  },
  {
   "cell_type": "code",
   "execution_count": 18,
   "id": "81cfb833-fa96-4c07-a082-0e11488b8fc5",
   "metadata": {},
   "outputs": [
    {
     "data": {
      "text/plain": [
       "('aman', 12, [2345, 657, 5, 5, 6, 7, 9], 89.6)"
      ]
     },
     "execution_count": 18,
     "metadata": {},
     "output_type": "execute_result"
    }
   ],
   "source": [
    "#example of *args \n",
    "def test(*args):\n",
    "    return args\n",
    "test(\"aman\",12,[2345,657,5,5,6,7,9],89.6)"
   ]
  },
  {
   "cell_type": "code",
   "execution_count": 19,
   "id": "25d90541-2e2f-4526-9be4-db920c3671d9",
   "metadata": {},
   "outputs": [
    {
     "data": {
      "text/plain": [
       "{'name': 'Aman', 'Batch': 'Data Science Masters'}"
      ]
     },
     "execution_count": 19,
     "metadata": {},
     "output_type": "execute_result"
    }
   ],
   "source": [
    "#example of **kwargs \n",
    "def test1(**kwargs):\n",
    "    return kwargs\n",
    "test1(name = 'Aman', Batch = 'Data Science Masters')"
   ]
  },
  {
   "cell_type": "markdown",
   "id": "aa1a3f3b-650b-4226-a17a-a153494649a4",
   "metadata": {},
   "source": [
    "Q3.  What is an iterator in python? Name the method used to initialise the iterator object and the method  used for iteration. Use these methods to print the first five elements of the given list [2, 4, 6, 8, 10, 12, 14,  16, 18, 20]. \n"
   ]
  },
  {
   "cell_type": "markdown",
   "id": "22b75834-23d9-4e67-9275-64bb0e7b4e2d",
   "metadata": {},
   "source": [
    "#SOLUTION \n",
    "Iterator in Python is an object that is used to iterate over iterable objects like lists, \n",
    "tuples, dicts, and sets. The iterator object is initialized using the iter() method. \n",
    "It uses the next() method for iteration.\n",
    "__iter__(): The iter() method is called for the initialization of an iterator. \n",
    "This returns an iterator object.\n",
    "__next__(): The next method returns the next value for the iterable. When we use a \n",
    "for loop to traverse any iterable object, internally it uses the iter() method to get an \n",
    "iterator object, which further uses the next() method to iterate over. This method raises \n",
    "a StopIteration to signal the end of the iteration."
   ]
  },
  {
   "cell_type": "code",
   "execution_count": 20,
   "id": "fca08e57-3b07-4638-bf9c-f6fe6b0745a2",
   "metadata": {},
   "outputs": [
    {
     "name": "stdout",
     "output_type": "stream",
     "text": [
      "2\n",
      "4\n",
      "6\n",
      "7\n",
      "10\n"
     ]
    }
   ],
   "source": [
    "list = [2,4,6,7,10,12,14,16,18,20]\n",
    "my_list = iter(list)\n",
    "print(next(my_list))\n",
    "print(next(my_list))\n",
    "print(next(my_list))\n",
    "print(next(my_list))\n",
    "print(next(my_list))"
   ]
  },
  {
   "cell_type": "markdown",
   "id": "0ac122ec-b6e3-494b-8c6f-6086b3505b36",
   "metadata": {},
   "source": [
    "Q4.What is a generator function in python? Why yield keyword is used? Give an example of a generator  function."
   ]
  },
  {
   "cell_type": "markdown",
   "id": "83d0c426-e877-4cb7-8b0c-1099892fa711",
   "metadata": {},
   "source": [
    "#Solution \n",
    "In Python, a generator is a function that returns an iterator that produces a sequence \n",
    "of values when iterated over. Generators are useful when we want to produce a large \n",
    "sequence of values, but we don't want to store all of them in memory at once.\n",
    "\n",
    "The yield keyword in Python controls the flow of a generator function. This is similar to a return statement used for returning values in Python."
   ]
  },
  {
   "cell_type": "code",
   "execution_count": 21,
   "id": "dc9c0551-b40c-48c1-8a3e-1e2f182a2040",
   "metadata": {},
   "outputs": [],
   "source": [
    "#example of genrator function\n",
    "def test1(n):\n",
    "    count = 1\n",
    "    while count <= n:\n",
    "        yield count \n",
    "        count = count + 1"
   ]
  },
  {
   "cell_type": "code",
   "execution_count": 22,
   "id": "cecacf9e-cc99-40ed-9a3d-d6fc9ed3ad83",
   "metadata": {},
   "outputs": [],
   "source": [
    "num = test1(10)"
   ]
  },
  {
   "cell_type": "code",
   "execution_count": 23,
   "id": "43f9050f-1437-4ddf-af3f-c9232d171b4b",
   "metadata": {},
   "outputs": [
    {
     "name": "stdout",
     "output_type": "stream",
     "text": [
      "1\n",
      "2\n",
      "3\n",
      "4\n",
      "5\n",
      "6\n",
      "7\n",
      "8\n",
      "9\n",
      "10\n"
     ]
    }
   ],
   "source": [
    "for i in num:\n",
    "    print(i)"
   ]
  },
  {
   "cell_type": "markdown",
   "id": "2da640df-dc81-47db-936e-da7240eead30",
   "metadata": {},
   "source": [
    "Q5. Create a generator function for prime numbers less than 1000. Use the next() method \n",
    "to print the  first 20 prime numbers. "
   ]
  },
  {
   "cell_type": "code",
   "execution_count": 24,
   "id": "a15e5f65-184e-4909-8106-f155fd3277c1",
   "metadata": {},
   "outputs": [],
   "source": [
    "#Solution:\n",
    "def prime_num():\n",
    "    for num in range(2,1001):\n",
    "        prime = True\n",
    "        for i in range(2,num):\n",
    "            if num % i == 0:\n",
    "                prime = False\n",
    "        if prime:\n",
    "            yield num\n",
    "   "
   ]
  },
  {
   "cell_type": "code",
   "execution_count": 25,
   "id": "f44c0bd8-c898-40b4-8de6-f51d2521f8c0",
   "metadata": {},
   "outputs": [],
   "source": [
    "prime = prime_num()"
   ]
  },
  {
   "cell_type": "code",
   "execution_count": 26,
   "id": "4414f0c8-7921-41ec-9403-1e2f0bfc3b5c",
   "metadata": {},
   "outputs": [
    {
     "name": "stdout",
     "output_type": "stream",
     "text": [
      "2\n",
      "3\n",
      "5\n",
      "7\n",
      "11\n",
      "13\n",
      "17\n",
      "19\n",
      "23\n",
      "29\n",
      "31\n",
      "37\n",
      "41\n",
      "43\n",
      "47\n",
      "53\n",
      "59\n",
      "61\n",
      "67\n",
      "71\n"
     ]
    }
   ],
   "source": [
    "for i in range(20):\n",
    "    print(next(prime))"
   ]
  },
  {
   "cell_type": "markdown",
   "id": "8b73248f-ef63-467d-b806-8a3eaeb5f721",
   "metadata": {},
   "source": [
    "Q6. Write a python program to print the first 10 Fibonacci numbers using a while loop."
   ]
  },
  {
   "cell_type": "code",
   "execution_count": 27,
   "id": "17f485ea-78bc-41fa-b404-0d54f221116e",
   "metadata": {},
   "outputs": [
    {
     "name": "stdout",
     "output_type": "stream",
     "text": [
      "0\n",
      "1\n",
      "1\n",
      "2\n",
      "3\n",
      "5\n",
      "8\n",
      "13\n",
      "21\n",
      "34\n"
     ]
    }
   ],
   "source": [
    "#Solution\n",
    "a ,b = 0 , 1\n",
    "i = 1\n",
    "while i <= 10:\n",
    "    print(a)\n",
    "    c = a + b\n",
    "    a = b \n",
    "    b = c\n",
    "    i = i + 1"
   ]
  },
  {
   "cell_type": "markdown",
   "id": "1cc42727-eb9e-48de-88d0-b9679e618b63",
   "metadata": {},
   "source": [
    "Q7. Write a List Comprehension to iterate through the given string: ‘pwskills’. \n",
    "Expected output: ['p', 'w', 's', 'k', 'i', 'l', 'l', 's']  "
   ]
  },
  {
   "cell_type": "code",
   "execution_count": 28,
   "id": "cf77482a-28b6-4274-9576-55f3e1ece91f",
   "metadata": {},
   "outputs": [
    {
     "data": {
      "text/plain": [
       "['p', 'w', 's', 'k', 'i', 'l', 'l', 's']"
      ]
     },
     "execution_count": 28,
     "metadata": {},
     "output_type": "execute_result"
    }
   ],
   "source": [
    "string = 'pwskills'\n",
    "[x for x in string]"
   ]
  },
  {
   "cell_type": "markdown",
   "id": "58d3c336-d35c-4c78-85ce-362fb7d85b7e",
   "metadata": {},
   "source": [
    "Q8. Write a python program to check whether a given number is Palindrome or not using a \n",
    "while loop. \n"
   ]
  },
  {
   "cell_type": "code",
   "execution_count": 29,
   "id": "438c7449-79f4-43b9-8c31-51d7c6480e47",
   "metadata": {},
   "outputs": [
    {
     "name": "stdout",
     "output_type": "stream",
     "text": [
      "This is palindrome\n"
     ]
    }
   ],
   "source": [
    "num = 454\n",
    "temp = 454\n",
    "rev = 0\n",
    "while num > 0:\n",
    "    dig = num % 10 # for remainder\n",
    "    rev = (rev * 10) + dig\n",
    "    num = num // 10  # round the result down to nearest whole number\n",
    "if temp == rev:\n",
    "    print(\"This is palindrome\")\n",
    "else:\n",
    "    print(\"This is not palindrome\")\n",
    "    "
   ]
  },
  {
   "cell_type": "markdown",
   "id": "68649cef-f679-4a13-a4f0-794955db53f6",
   "metadata": {},
   "source": [
    "Q9. Write a code to print odd numbers from 1 to 100 using list comprehension. \n",
    "Note: Use a list comprehension to create a list from 1 to 100 and use another \n",
    "List comprehension to filter  out odd numbers. "
   ]
  },
  {
   "cell_type": "code",
   "execution_count": 30,
   "id": "e5a39b99-cb76-4387-b2fe-28d8b13f84c1",
   "metadata": {},
   "outputs": [
    {
     "data": {
      "text/plain": [
       "[1,\n",
       " 3,\n",
       " 5,\n",
       " 7,\n",
       " 9,\n",
       " 11,\n",
       " 13,\n",
       " 15,\n",
       " 17,\n",
       " 19,\n",
       " 21,\n",
       " 23,\n",
       " 25,\n",
       " 27,\n",
       " 29,\n",
       " 31,\n",
       " 33,\n",
       " 35,\n",
       " 37,\n",
       " 39,\n",
       " 41,\n",
       " 43,\n",
       " 45,\n",
       " 47,\n",
       " 49,\n",
       " 51,\n",
       " 53,\n",
       " 55,\n",
       " 57,\n",
       " 59,\n",
       " 61,\n",
       " 63,\n",
       " 65,\n",
       " 67,\n",
       " 69,\n",
       " 71,\n",
       " 73,\n",
       " 75,\n",
       " 77,\n",
       " 79,\n",
       " 81,\n",
       " 83,\n",
       " 85,\n",
       " 87,\n",
       " 89,\n",
       " 91,\n",
       " 93,\n",
       " 95,\n",
       " 97,\n",
       " 99]"
      ]
     },
     "execution_count": 30,
     "metadata": {},
     "output_type": "execute_result"
    }
   ],
   "source": [
    "#solution\n",
    "l1 = [x for x in range(1,101)]\n",
    "[i for i in l1 if i % 2 != 0]"
   ]
  }
 ],
 "metadata": {
  "kernelspec": {
   "display_name": "Python 3 (ipykernel)",
   "language": "python",
   "name": "python3"
  },
  "language_info": {
   "codemirror_mode": {
    "name": "ipython",
    "version": 3
   },
   "file_extension": ".py",
   "mimetype": "text/x-python",
   "name": "python",
   "nbconvert_exporter": "python",
   "pygments_lexer": "ipython3",
   "version": "3.10.8"
  }
 },
 "nbformat": 4,
 "nbformat_minor": 5
}
